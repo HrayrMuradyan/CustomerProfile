{
 "cells": [
  {
   "cell_type": "code",
   "execution_count": 1,
   "id": "3cc73f56",
   "metadata": {},
   "outputs": [],
   "source": [
    "from CustomerProfile.CustomerProfile import CustomerProfile\n",
    "from CustomerProfile.utils import K_Means\n",
    "from CustomerProfile.Preprocessing.scaler import MinMaxScaler \n",
    "from CustomerProfile.Preprocessing.outlier import ZScore \n",
    "import pandas as pd\n",
    "import warnings"
   ]
  },
  {
   "cell_type": "code",
   "execution_count": 2,
   "id": "59c797bf",
   "metadata": {},
   "outputs": [],
   "source": [
    "warnings.filterwarnings(\"ignore\")"
   ]
  },
  {
   "cell_type": "code",
   "execution_count": 3,
   "id": "17a0e838",
   "metadata": {},
   "outputs": [],
   "source": [
    "data_path = '../Data/marketing_campaign.csv'"
   ]
  },
  {
   "cell_type": "code",
   "execution_count": 4,
   "id": "3481911d",
   "metadata": {},
   "outputs": [],
   "source": [
    "raw_data = pd.read_csv(data_path, sep='\\t')"
   ]
  },
  {
   "cell_type": "code",
   "execution_count": 5,
   "id": "034d20e4",
   "metadata": {},
   "outputs": [],
   "source": [
    "raw_data[\"Spent\"] = raw_data[\"MntWines\"] + raw_data[\"MntFruits\"] + raw_data[\"MntMeatProducts\"] + raw_data[\"MntFishProducts\"] + raw_data[\"MntSweetProducts\"] + raw_data[\"MntGoldProds\"]\n",
    "raw_data[\"Spent\"] = raw_data[\"Spent\"].astype(float) \n",
    "raw_data.drop([\"MntWines\", \"MntFruits\", \"MntMeatProducts\", \"MntFishProducts\", \"MntSweetProducts\", \"MntGoldProds\"], axis=1, inplace=True)\n",
    "data = raw_data.copy()\n",
    "data.drop(['ID', 'Dt_Customer', 'Z_CostContact', 'Z_Revenue'], axis=1, inplace=True)\n",
    "data.dropna(inplace=True)"
   ]
  },
  {
   "cell_type": "code",
   "execution_count": 6,
   "id": "71d9b535",
   "metadata": {},
   "outputs": [
    {
     "name": "stdout",
     "output_type": "stream",
     "text": [
      "\u001b[1m>>>> Customer Segmentation instance created with the following parameters:\u001b[0m\n",
      "\n",
      "- Clustering: K_Means\n",
      "- Segmentation type: general\n",
      "- Columns used: ['Year_Birth', 'Education', 'Marital_Status', 'Income', 'Kidhome', 'Teenhome', 'Recency', 'NumDealsPurchases', 'NumWebPurchases', 'NumCatalogPurchases', 'NumStorePurchases', 'NumWebVisitsMonth', 'AcceptedCmp3', 'AcceptedCmp4', 'AcceptedCmp5', 'AcceptedCmp1', 'AcceptedCmp2', 'Complain', 'Response', 'Spent']\n",
      "- Target column: Spent\n",
      "\n",
      "\u001b[1m>>>> Warnings <<<<\u001b[0m\n",
      "- Warning: high number of dimensions detected (>10), it is recommended to have less than 10 features. If you think all the features used are highly informative, continue confidently.\n"
     ]
    }
   ],
   "source": [
    "profiles = CustomerProfile(data=data, target_column='Spent', clustering=K_Means, segmentation='general', columns='all')"
   ]
  },
  {
   "cell_type": "code",
   "execution_count": 7,
   "id": "cfd4e778",
   "metadata": {
    "scrolled": true
   },
   "outputs": [
    {
     "name": "stdout",
     "output_type": "stream",
     "text": [
      "One-hot encoding - Done!\n",
      "There were 3 upper outliers and 0 lower outliers found in column \"Spent\". Clipping...\n",
      "There were 8 upper outliers and 0 lower outliers found in column \"Income\". Clipping...\n",
      "Outlier handling - Done!\n",
      "Scaling using MinMaxScaler - Done!\n"
     ]
    }
   ],
   "source": [
    "profiles.preprocess(scaler=MinMaxScaler(), outlier=ZScore(column=['Spent','Income']))"
   ]
  },
  {
   "cell_type": "code",
   "execution_count": null,
   "id": "da49d63a",
   "metadata": {},
   "outputs": [],
   "source": [
    "profiles.fit(method = 'silhouette', max_k=50)"
   ]
  },
  {
   "cell_type": "code",
   "execution_count": null,
   "id": "e2a4ed59",
   "metadata": {},
   "outputs": [],
   "source": [
    "profiles.report(save=True, save_path ='../Report/Report.csv')"
   ]
  },
  {
   "cell_type": "code",
   "execution_count": null,
   "id": "452bc1f8",
   "metadata": {},
   "outputs": [],
   "source": []
  }
 ],
 "metadata": {
  "kernelspec": {
   "display_name": "Individual",
   "language": "python",
   "name": "individual"
  },
  "language_info": {
   "codemirror_mode": {
    "name": "ipython",
    "version": 3
   },
   "file_extension": ".py",
   "mimetype": "text/x-python",
   "name": "python",
   "nbconvert_exporter": "python",
   "pygments_lexer": "ipython3",
   "version": "3.9.0"
  }
 },
 "nbformat": 4,
 "nbformat_minor": 5
}
